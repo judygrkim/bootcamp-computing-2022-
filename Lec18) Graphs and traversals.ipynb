{
 "cells": [
  {
   "cell_type": "code",
   "execution_count": 1,
   "id": "2aa62509",
   "metadata": {},
   "outputs": [],
   "source": [
    "# Lecture 18 graphs and traversals"
   ]
  },
  {
   "cell_type": "code",
   "execution_count": 3,
   "id": "54d59eb5",
   "metadata": {},
   "outputs": [],
   "source": [
    "class undi_graph():\n",
    "    def __init__(self, V:list, E:list) -> None:\n",
    "        self.V = V[:]\n",
    "        self.neighbor = {}\n",
    "        for v in V:\n",
    "            self.neighbor[v] = []\n",
    "        for (v,w) in E:\n",
    "            self.neighbor[v].append(w)\n",
    "            self.neighbor[w].append(v)\n",
    "    \n",
    "    \n",
    "    def __DFTHelp(self, visited: list, v: int) -> None:\n",
    "        if not visited[v]:                               #False이면 \n",
    "            visited[v] = True                            #방문했으니까 True로 만들어주고 \n",
    "            print(v)\n",
    "            for w in self.neighbor[v]:\n",
    "                self.__DFTHelp(visited, w)\n",
    "        \n",
    "    \n",
    "    def DFT(self) -> None:\n",
    "        if self.V:\n",
    "            visited = {}                                  #비어잇는 딕셔너리 만들고\n",
    "            for v in self.V:                              \n",
    "                visited[v] = False                        #다 False로 설정\n",
    "            for v in self.V:                              #disconnected도 방문하기 위한 for loop\n",
    "                self.__DFTHelp(visited, v)"
   ]
  },
  {
   "cell_type": "code",
   "execution_count": null,
   "id": "81854df9",
   "metadata": {},
   "outputs": [],
   "source": []
  }
 ],
 "metadata": {
  "kernelspec": {
   "display_name": "Python 3 (ipykernel)",
   "language": "python",
   "name": "python3"
  },
  "language_info": {
   "codemirror_mode": {
    "name": "ipython",
    "version": 3
   },
   "file_extension": ".py",
   "mimetype": "text/x-python",
   "name": "python",
   "nbconvert_exporter": "python",
   "pygments_lexer": "ipython3",
   "version": "3.9.7"
  }
 },
 "nbformat": 4,
 "nbformat_minor": 5
}
