{
 "cells": [
  {
   "cell_type": "code",
   "execution_count": 2,
   "id": "ad8cde2a",
   "metadata": {},
   "outputs": [],
   "source": [
    "## practice3_File IO Examples"
   ]
  },
  {
   "cell_type": "code",
   "execution_count": null,
   "id": "23d070ee",
   "metadata": {},
   "outputs": [],
   "source": [
    "# 실제 데이터는 간단해도 trick이 많아서 처리하기 어려움 "
   ]
  },
  {
   "cell_type": "code",
   "execution_count": null,
   "id": "617a85fc",
   "metadata": {},
   "outputs": [],
   "source": [
    "#remove line break(\\n)\n",
    "split_line = line.strip().split('.') #strip하고 .을 기준으로 split\n",
    "\n",
    "#remove space in each element of list\n",
    "numbers = [float(nun.strip()) for num in split_line in num]"
   ]
  },
  {
   "cell_type": "code",
   "execution_count": null,
   "id": "f0cff077",
   "metadata": {},
   "outputs": [],
   "source": [
    "# #의 앞부분만 사용하기\n",
    "ignore_comment = line.split('#')[0].strip()\n",
    "\n",
    "#숫자로 불러오기 위해 이전 코드 한 번 더 \n",
    "split_line = line.strip().split('.')\n",
    "numbers = [float(nun.strip()) for num in split_line in num]"
   ]
  },
  {
   "cell_type": "code",
   "execution_count": null,
   "id": "d551572e",
   "metadata": {},
   "outputs": [],
   "source": []
  },
  {
   "cell_type": "code",
   "execution_count": 24,
   "id": "a659437e",
   "metadata": {},
   "outputs": [],
   "source": [
    "#(2) process file\n",
    "from typing import TextIO\n",
    "\n",
    "def process_file(input_file: TextIO) -> float:\n",
    "    max_num = 0    #Initialization\n",
    "    line = input_file.readline()    #read one line\n",
    "    \n",
    "    while line: \n",
    "        if not line.startswith('#'):     #filter comments\n",
    "            valid_line = line.split('#')[0].strip()    # '#'의 뒷부분 날리고 빈칸 지우기 filter comments\n",
    "            numStrings = valid_line.split('.') # '.'을 기준으로 나누기 -> list 형성 \n",
    "            for numStr in numStrings:\n",
    "                if numStr:                             #유효한 str만 하나씩 읽기, 빈 string이 아닐 경우\n",
    "                    num = float(numStr.strip())\n",
    "                    if max_num < num:                  #기존 max_num보다 크면 새로 지정\n",
    "                        max_num = num                  #update max_num\n",
    "        \n",
    "        line = input_file.readline()                   #read next line\n",
    "                    \n",
    "    return max_num"
   ]
  },
  {
   "cell_type": "code",
   "execution_count": 25,
   "id": "5fb1612f",
   "metadata": {},
   "outputs": [
    {
     "name": "stdout",
     "output_type": "stream",
     "text": [
      "6721.0\n"
     ]
    }
   ],
   "source": [
    "# (1) open file\n",
    "with open('file_practice.txt','r') as file:\n",
    "    output = process_file(file)\n",
    "print(output)"
   ]
  },
  {
   "cell_type": "code",
   "execution_count": null,
   "id": "43edaed6",
   "metadata": {},
   "outputs": [],
   "source": []
  },
  {
   "cell_type": "code",
   "execution_count": null,
   "id": "1414fc9f",
   "metadata": {},
   "outputs": [],
   "source": []
  }
 ],
 "metadata": {
  "kernelspec": {
   "display_name": "Python 3 (ipykernel)",
   "language": "python",
   "name": "python3"
  },
  "language_info": {
   "codemirror_mode": {
    "name": "ipython",
    "version": 3
   },
   "file_extension": ".py",
   "mimetype": "text/x-python",
   "name": "python",
   "nbconvert_exporter": "python",
   "pygments_lexer": "ipython3",
   "version": "3.9.7"
  }
 },
 "nbformat": 4,
 "nbformat_minor": 5
}
