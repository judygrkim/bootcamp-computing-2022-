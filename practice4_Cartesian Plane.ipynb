{
 "cells": [
  {
   "cell_type": "code",
   "execution_count": null,
   "id": "0b9589be",
   "metadata": {},
   "outputs": [],
   "source": [
    "##\n",
    "write two classes Point and Line that give the same ouput as below: \n",
    ">>>line = Line(Point(1,1),Point(3,2))\n",
    ">>>line.slope()\n",
    ">>>line.length()"
   ]
  },
  {
   "cell_type": "code",
   "execution_count": null,
   "id": "c9cfebe7",
   "metadata": {},
   "outputs": [],
   "source": [
    "## 내 풀이"
   ]
  },
  {
   "cell_type": "code",
   "execution_count": 1,
   "id": "5d6335eb",
   "metadata": {},
   "outputs": [],
   "source": [
    "class Point:\n",
    "    def __init__(self, x:int, y:int) -> None:\n",
    "        self.x = x\n",
    "        self.y = y\n",
    "        self.point = [x,y]\n",
    "    \n",
    "    def printPoint(self):\n",
    "        print(self.point)"
   ]
  },
  {
   "cell_type": "code",
   "execution_count": 33,
   "id": "5faad386",
   "metadata": {},
   "outputs": [],
   "source": [
    "import math\n",
    "\n",
    "class Line():\n",
    "    def __init__(self, p1:Point, p2:Point) -> None: \n",
    "        self.p1 = p1\n",
    "        self.p2 = p2\n",
    "    \n",
    "    def slope(self):\n",
    "        self.slope_x = self.p2.x - self.p1.x\n",
    "        self.slope_y = self.p2.y - self.p1.y\n",
    "        self.slope = self.slope_y / self.slope_x\n",
    "        print(self.slope)\n",
    "    \n",
    "    def length(self):\n",
    "        self.length = math.sqrt(math.pow(self.p1.x-self.p2.x, 2) \n",
    "                                + math.pow(self.p1.y-self.p2.y, 2))\n",
    "        print(self.length)"
   ]
  },
  {
   "cell_type": "code",
   "execution_count": 35,
   "id": "66cbd0bf",
   "metadata": {},
   "outputs": [
    {
     "name": "stdout",
     "output_type": "stream",
     "text": [
      "(3, 2)\n"
     ]
    }
   ],
   "source": [
    "a = Point(3,2)\n",
    "a.printPoint()"
   ]
  },
  {
   "cell_type": "code",
   "execution_count": 36,
   "id": "cbe13bbe",
   "metadata": {},
   "outputs": [
    {
     "name": "stdout",
     "output_type": "stream",
     "text": [
      "0.5\n",
      "2.23606797749979\n"
     ]
    }
   ],
   "source": [
    "line = Line(Point(1,1), Point(3,2))\n",
    "line.slope()\n",
    "line.length()"
   ]
  },
  {
   "cell_type": "code",
   "execution_count": 37,
   "id": "d2066099",
   "metadata": {},
   "outputs": [],
   "source": [
    "## 답"
   ]
  },
  {
   "cell_type": "code",
   "execution_count": 38,
   "id": "2019beb3",
   "metadata": {},
   "outputs": [],
   "source": [
    "from math import sqrt"
   ]
  },
  {
   "cell_type": "code",
   "execution_count": 42,
   "id": "c39af5db",
   "metadata": {},
   "outputs": [],
   "source": [
    "class Point():\n",
    "    def __init__(self,x:float,y:float) -> None:\n",
    "        self.x = x\n",
    "        self.y = y\n",
    "    \n",
    "class Line():\n",
    "    def __init__(self,p1:Point, p2:Point) -> None:\n",
    "        self.p1 = p1\n",
    "        self.p2 = p2\n",
    "    \n",
    "    def slope(self) -> float:\n",
    "        return (self.p2.y - self.p1.y) / (self.p2.x - self.p1.x)\n",
    "    \n",
    "    def length(self) -> float:\n",
    "        return (sqrt((self.p2.y - self.p1.y)**2 + (self.p2.x - self.p1.x)**2))"
   ]
  },
  {
   "cell_type": "code",
   "execution_count": 44,
   "id": "9d005f7a",
   "metadata": {},
   "outputs": [
    {
     "data": {
      "text/plain": [
       "0.5"
      ]
     },
     "execution_count": 44,
     "metadata": {},
     "output_type": "execute_result"
    }
   ],
   "source": [
    "line = Line(Point(1,1), Point(3,2))\n",
    "line.slope()"
   ]
  },
  {
   "cell_type": "code",
   "execution_count": 45,
   "id": "778e9d92",
   "metadata": {},
   "outputs": [
    {
     "data": {
      "text/plain": [
       "2.23606797749979"
      ]
     },
     "execution_count": 45,
     "metadata": {},
     "output_type": "execute_result"
    }
   ],
   "source": [
    "line.length()"
   ]
  },
  {
   "cell_type": "code",
   "execution_count": null,
   "id": "143bf731",
   "metadata": {},
   "outputs": [],
   "source": []
  }
 ],
 "metadata": {
  "kernelspec": {
   "display_name": "Python 3 (ipykernel)",
   "language": "python",
   "name": "python3"
  },
  "language_info": {
   "codemirror_mode": {
    "name": "ipython",
    "version": 3
   },
   "file_extension": ".py",
   "mimetype": "text/x-python",
   "name": "python",
   "nbconvert_exporter": "python",
   "pygments_lexer": "ipython3",
   "version": "3.9.7"
  }
 },
 "nbformat": 4,
 "nbformat_minor": 5
}
