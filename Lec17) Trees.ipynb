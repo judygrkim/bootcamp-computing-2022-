{
 "cells": [
  {
   "cell_type": "code",
   "execution_count": 1,
   "id": "6e6a35e0",
   "metadata": {},
   "outputs": [],
   "source": [
    "# tress\n",
    "#K-ary Trees"
   ]
  },
  {
   "cell_type": "code",
   "execution_count": 4,
   "id": "745674ab",
   "metadata": {},
   "outputs": [],
   "source": [
    "class TreeNode():\n",
    "    def __init__(self, x: int, k: int) -> None:\n",
    "        self.val = x\n",
    "        self.arity = k\n",
    "        self.child = [None]*k"
   ]
  },
  {
   "cell_type": "code",
   "execution_count": 3,
   "id": "50adc67c",
   "metadata": {},
   "outputs": [],
   "source": [
    "#Level-order (breadth-first) traversal\n",
    "\n",
    "class Tree():                           #q에 담고, 없애고, 출력하고를 반복\n",
    "    def visit(self, node: TreeNode):\n",
    "        print(node.val)\n",
    "    \n",
    "    def BFT(self):\n",
    "        if self.root == None:\n",
    "            return\n",
    "        q = [self.root]                  #방문을 기다리는 노드들 \n",
    "        while q:                         #q가 비어있지 않다면 \n",
    "            curNode = q.pop(0)           #q에서 지움 \n",
    "            self.visit(curNode)          #현재를 출력 \n",
    "            for childNode in curNode.child:\n",
    "                if childNode:\n",
    "                    q.append(childNode)"
   ]
  },
  {
   "cell_type": "code",
   "execution_count": 7,
   "id": "540567ed",
   "metadata": {},
   "outputs": [],
   "source": [
    "#Level-order (breadth-first) traversal\n",
    "\n",
    "from collections import deque           # append(x) appendleft(x) pop() popleft()\n",
    "\n",
    "class Tree():                           #q에 담고, 없애고, 출력하고를 반복\n",
    "    def visit(self, node: TreeNode):\n",
    "        print(node.val)\n",
    "    \n",
    "    def BFT(self):\n",
    "        if self.root == None:\n",
    "            return\n",
    "        q = deque[self.root]                  #방문을 기다리는 노드들 \n",
    "        while q:                         #q가 비어있지 않다면 \n",
    "            curNode = q.popleft()           #q에서 지움 \n",
    "            self.visit(curNode)          #현재를 출력 \n",
    "            for childNode in curNode.child:\n",
    "                if childNode:\n",
    "                    q.append(childNode)"
   ]
  },
  {
   "cell_type": "code",
   "execution_count": null,
   "id": "21d6e8d8",
   "metadata": {},
   "outputs": [],
   "source": []
  },
  {
   "cell_type": "code",
   "execution_count": 8,
   "id": "cbc66068",
   "metadata": {},
   "outputs": [],
   "source": [
    "#Depth First Traversals\n",
    "\n",
    "#preorder: visit node before traversing its children from left to right\n",
    "\n",
    "class Tree():\n",
    "    def visit(self, node:TreeNode):\n",
    "        print(node.val)\n",
    "    \n",
    "    \n",
    "    def __DFT_preorderHelp(self, curNode:TreeNode):\n",
    "        if curNode == None:\n",
    "            return \n",
    "        self.visit(curNode)                               #본인을 출력\n",
    "        for childNode in curNode.child:                   #마지막이면 base case \n",
    "            self.__DFT_preorderHelp(childNode)\n",
    "    \n",
    "    \n",
    "    def DFT_preorder(self):\n",
    "        self.__DFT_preorderHelp(self.root)"
   ]
  },
  {
   "cell_type": "code",
   "execution_count": 5,
   "id": "6fc80dd6",
   "metadata": {},
   "outputs": [],
   "source": [
    "#Depth First Traversals\n",
    "\n",
    "#inorder: from left to right and visit the node in the middle\n",
    "\n",
    "class Tree():\n",
    "    def visit(self, node:TreeNode):\n",
    "        print(node.val)\n",
    "    \n",
    "    \n",
    "    def __DFT_preorderHelp(self, curNode:TreeNode):\n",
    "        if curNode == None:\n",
    "            return\n",
    "        for i in range(len(curNode.child)):              #가장 아래 자녀까지 \n",
    "            if i == 1:\n",
    "                self.visit(curNode)                          #맨 왼쪽 아래에서 출력 시작 \n",
    "            self.__DFT_inorderHelp(curNode.child[i])\n",
    "        \n",
    "    \n",
    "    def DFT_indoerHelp(self):\n",
    "        self.__DFT_indorderHep(self.root)"
   ]
  },
  {
   "cell_type": "code",
   "execution_count": null,
   "id": "11b18826",
   "metadata": {},
   "outputs": [],
   "source": []
  },
  {
   "cell_type": "code",
   "execution_count": 6,
   "id": "ed3fff61",
   "metadata": {},
   "outputs": [],
   "source": [
    "#Depth First Traversals\n",
    "\n",
    "#postorder : visit a node after traversing its children from left to right\n",
    "\n",
    "class Tree():\n",
    "    def visit(self, node: TreeNode):\n",
    "        print(node.val)\n",
    "    \n",
    "    \n",
    "    def __DFT_postorderHelp(self, curNode: TreeNode):\n",
    "        if curNode == None:\n",
    "            return\n",
    "        for i in range(len(curNode.child)):\n",
    "            self.__DFT_postorderHelp(curNode.child[i])\n",
    "        self.visit(curNode)\n",
    "        \n",
    "    \n",
    "    def DFT_postorder(self):\n",
    "        self.__DFT_postorderHelp(self.root)\n",
    " "
   ]
  },
  {
   "cell_type": "code",
   "execution_count": null,
   "id": "95790d3d",
   "metadata": {},
   "outputs": [],
   "source": []
  }
 ],
 "metadata": {
  "kernelspec": {
   "display_name": "Python 3 (ipykernel)",
   "language": "python",
   "name": "python3"
  },
  "language_info": {
   "codemirror_mode": {
    "name": "ipython",
    "version": 3
   },
   "file_extension": ".py",
   "mimetype": "text/x-python",
   "name": "python",
   "nbconvert_exporter": "python",
   "pygments_lexer": "ipython3",
   "version": "3.9.7"
  }
 },
 "nbformat": 4,
 "nbformat_minor": 5
}
