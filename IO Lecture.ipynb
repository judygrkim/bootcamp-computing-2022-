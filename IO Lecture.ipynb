{
 "cells": [
  {
   "cell_type": "code",
   "execution_count": null,
   "id": "e7f0060a",
   "metadata": {},
   "outputs": [],
   "source": [
    "file = open('example.txt','r')\n",
    "contents = file.read()\n",
    "file.close()\n",
    "print(contents)"
   ]
  },
  {
   "cell_type": "code",
   "execution_count": null,
   "id": "8f4f3af8",
   "metadata": {},
   "outputs": [],
   "source": []
  },
  {
   "cell_type": "code",
   "execution_count": null,
   "id": "eb12cdd7",
   "metadata": {},
   "outputs": [],
   "source": [
    "import urllib.request"
   ]
  },
  {
   "cell_type": "code",
   "execution_count": null,
   "id": "150b50b0",
   "metadata": {},
   "outputs": [],
   "source": [
    "url = \"https://robjhyndman.com/tsdldata/ecology1/hopedale.dat\"\n",
    "with urllib.request.urlopen(url) as file:\n",
    "    for line in file:\n",
    "        line = line.strip()            #빈칸 지움 \n",
    "        line = line.decode(\"utf-8\")    #bytes type으로 읽어온 것을 text로 바꿔주는 과정  \n",
    "        print(line)"
   ]
  },
  {
   "cell_type": "code",
   "execution_count": null,
   "id": "0199c9cc",
   "metadata": {},
   "outputs": [],
   "source": []
  },
  {
   "cell_type": "code",
   "execution_count": 10,
   "id": "2e12427d",
   "metadata": {},
   "outputs": [],
   "source": [
    "with open('example.txt', 'w') as output_file:\n",
    "    output_file.write('Programming for Data Science')\n",
    "#write mode - 기존 내용 사라지고 새로 작성"
   ]
  },
  {
   "cell_type": "code",
   "execution_count": 11,
   "id": "fd2e6ae3",
   "metadata": {},
   "outputs": [],
   "source": [
    "with open('example.txt','a') as output_file:\n",
    "    output_file.write(' is fun..?')\n",
    "#append mode - 내용 덧붙이기"
   ]
  },
  {
   "cell_type": "code",
   "execution_count": 37,
   "id": "5388a0b7",
   "metadata": {},
   "outputs": [
    {
     "name": "stdout",
     "output_type": "stream",
     "text": [
      "(3,)\n",
      "(3,)\n",
      "(3,)\n"
     ]
    }
   ],
   "source": [
    "from typing import TextIO\n",
    "import numpy as np\n",
    "\n",
    "names = []\n",
    "numbers = []\n",
    "grades = []\n",
    "\n",
    "def process_file(input_file: TextIO) -> None:\n",
    "    line = skip_header(input_file)\n",
    "    #line = input_file.readline()\n",
    "    while line:\n",
    "        line = line.strip()   #항상 하는 것이 좋음\n",
    "        value = line.split()  #break a line into a list of words\n",
    "        print(np.shape(value))\n",
    "        names.append(value[0])\n",
    "        numbers.append(value[1])\n",
    "        grades.append(value[2])\n",
    "        line = input_file.readline()\n",
    "    \n",
    "\n",
    "with open('example_IO.txt', 'r') as students:\n",
    "    process_file(students)"
   ]
  },
  {
   "cell_type": "code",
   "execution_count": 38,
   "id": "9f9c1e46",
   "metadata": {},
   "outputs": [
    {
     "data": {
      "text/plain": [
       "['Inhoe', 'Jaewook', 'Hyungsin']"
      ]
     },
     "execution_count": 38,
     "metadata": {},
     "output_type": "execute_result"
    }
   ],
   "source": [
    "names"
   ]
  },
  {
   "cell_type": "code",
   "execution_count": 39,
   "id": "b5a860a0",
   "metadata": {},
   "outputs": [
    {
     "data": {
      "text/plain": [
       "['A+', 'A+', 'C']"
      ]
     },
     "execution_count": 39,
     "metadata": {},
     "output_type": "execute_result"
    }
   ],
   "source": [
    "grades"
   ]
  },
  {
   "cell_type": "code",
   "execution_count": 40,
   "id": "c2797282",
   "metadata": {},
   "outputs": [
    {
     "data": {
      "text/plain": [
       "['2021-1111', '2021-2222', '2022-9999']"
      ]
     },
     "execution_count": 40,
     "metadata": {},
     "output_type": "execute_result"
    }
   ],
   "source": [
    "numbers"
   ]
  },
  {
   "cell_type": "code",
   "execution_count": 28,
   "id": "2344d5cc",
   "metadata": {},
   "outputs": [],
   "source": [
    "def skip_header(input_file: TextIO) -> str:\n",
    "    line = input_file.readline()\n",
    "    while line.startswith('#'):\n",
    "        line = input_file.readline()\n",
    "    return line"
   ]
  },
  {
   "cell_type": "code",
   "execution_count": null,
   "id": "8710f340",
   "metadata": {},
   "outputs": [],
   "source": []
  },
  {
   "cell_type": "code",
   "execution_count": null,
   "id": "d6aeb9c6",
   "metadata": {},
   "outputs": [],
   "source": [
    " "
   ]
  }
 ],
 "metadata": {
  "kernelspec": {
   "display_name": "Python 3 (ipykernel)",
   "language": "python",
   "name": "python3"
  },
  "language_info": {
   "codemirror_mode": {
    "name": "ipython",
    "version": 3
   },
   "file_extension": ".py",
   "mimetype": "text/x-python",
   "name": "python",
   "nbconvert_exporter": "python",
   "pygments_lexer": "ipython3",
   "version": "3.9.7"
  }
 },
 "nbformat": 4,
 "nbformat_minor": 5
}
