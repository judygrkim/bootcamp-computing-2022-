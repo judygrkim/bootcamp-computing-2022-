{
 "cells": [
  {
   "cell_type": "code",
   "execution_count": null,
   "id": "690688d4",
   "metadata": {},
   "outputs": [],
   "source": [
    "# Binary Search Tree"
   ]
  },
  {
   "cell_type": "code",
   "execution_count": 26,
   "id": "8c208dd3",
   "metadata": {},
   "outputs": [],
   "source": [
    "class TreeNode():\n",
    "    def __init__(self, x:int):\n",
    "        self.val = x\n",
    "        self.left = None\n",
    "        self.right = None"
   ]
  },
  {
   "cell_type": "code",
   "execution_count": 27,
   "id": "4fedc1f4",
   "metadata": {},
   "outputs": [],
   "source": [
    "class BST():\n",
    "    def __init__(self, root: TreeNode):\n",
    "        self.root = root\n",
    "    \n",
    "    def __searchHelp(self, curNode: TreeNode, x:int) -> TreeNode:      #한번에 하기 어려워서\n",
    "        if not curNode:                                                #base case\n",
    "            return None\n",
    "        if x == curNode.val:                                          #값이 같으면 curNode 리턴\n",
    "            return curNode\n",
    "        elif x < curNode.val:                                         # 작으면 왼쪽\n",
    "            return self.__searchHelp(curNode.left,x)\n",
    "        else:\n",
    "            return self.__searchHelp(curNode.right,x)                 #크면 오른쪽\n",
    "        \n",
    "    def search(self, x:int) -> TreeNode:\n",
    "        return self.__searchHelp(self.root, x)\n",
    "    ################################\n",
    "    \n",
    "    def __insertHelp(self, curNode:TreeNode, x:int) -> TreeNode:\n",
    "        if not curNode:\n",
    "            return TreeNode(x)                                       #x 값을 가진 node를 새로 만들기\n",
    "        if x < curNode.val:\n",
    "            curNode.left = self.__insertHelp(curNode.left, x)        #새로 만든 node에 가지 뻗기 \n",
    "        elif x > curNode.val: \n",
    "            curNode.right = self.__insertHelp(curNode.right, x)\n",
    "        else:\n",
    "            return curNode\n",
    "        return curNode\n",
    "    \n",
    "    def insert(self, x:int) -> None:\n",
    "        self.root = self.__insertHelp(self.root, x)\n",
    "    ###################################\n",
    "    # delete\n",
    "    # case1 : leaf node(no child)\n",
    "    # case2 : with one child\n",
    "    # case3: with two child\n",
    "    \n",
    "    def __findMax(self, curNode: TreeNode) -> int:\n",
    "        if not curNode.right:                        #base case\n",
    "            return curNode.val\n",
    "        else:                                        #recursive case\n",
    "            return self.__findMax(curNode.right)\n",
    "    \n",
    "    def __deleteHelp(self, curNode: TreeNode, x:int) -> TreeNode: \n",
    "        if not curNode:                                              #x가 없으면 none 리턴\n",
    "            return None\n",
    "        if x < curNode.val:\n",
    "            curNode.left = self.__deleteHelp(curNode.left, x)\n",
    "        elif x > curNode.val: \n",
    "            curNode.right = self.__deleteHelp(curNode.right, x)\n",
    "        else:           # x == curNode.val: we should delete this code!\n",
    "            #if curNode.left == None and curNode.right == None:       #case1\n",
    "            #    return None\n",
    "            #elif curNode.left == None and curNode.right:             #case2\n",
    "            #    return curNode.right\n",
    "            #elif curNode.left and curNode.right == None: \n",
    "            #    return curNode.left\n",
    "            \n",
    "            #case1 & case2를 한번에 하는 법\n",
    "            if curNode.left == None:\n",
    "                return curNode.right\n",
    "            elif curNode.right == None:\n",
    "                return curNode.left\n",
    "\n",
    "            else:                                                    #case3 \n",
    "                leftLargest = self.__findMax(curNode.left)\n",
    "                curNode.left = self.__deleteHelp(curNode.left, leftLargest)\n",
    "                curNode.val = leftLargest  \n",
    "                \n",
    "        return curNode\n",
    "\n",
    "    def delete(self, x:int) -> None:\n",
    "        self.root = self.__deleteHelp(self.root, x)\n",
    "        \n",
    "    "
   ]
  },
  {
   "cell_type": "code",
   "execution_count": 28,
   "id": "1b4ac131",
   "metadata": {},
   "outputs": [],
   "source": [
    "tree1 = TreeNode(1)\n",
    "tree2 = TreeNode(2)\n",
    "tree3 = TreeNode(3)\n",
    "tree4 = TreeNode(4)\n",
    "tree5 = TreeNode(5)\n",
    "tree6 = TreeNode(6)\n",
    "tree7 = TreeNode(7)\n",
    "\n",
    "tree4.left = tree2\n",
    "tree4.right = tree6\n",
    "\n",
    "tree2.left = tree1\n",
    "tree2.right = tree3\n",
    "\n",
    "tree6.left = tree5\n",
    "tree6.right = tree7\n",
    "\n",
    "myTree = BST(tree4)"
   ]
  },
  {
   "cell_type": "code",
   "execution_count": 29,
   "id": "29c12b2e",
   "metadata": {},
   "outputs": [
    {
     "name": "stdout",
     "output_type": "stream",
     "text": [
      "<__main__.TreeNode object at 0x0000019E18C06970> 6\n"
     ]
    }
   ],
   "source": [
    "node = myTree.search(6)\n",
    "if node == None:\n",
    "    print(node)\n",
    "else:\n",
    "    print(node, node.val)"
   ]
  },
  {
   "cell_type": "code",
   "execution_count": 30,
   "id": "0af46162",
   "metadata": {},
   "outputs": [
    {
     "name": "stdout",
     "output_type": "stream",
     "text": [
      "<__main__.TreeNode object at 0x0000019E18EE13A0> 8\n",
      "8\n",
      "None\n"
     ]
    }
   ],
   "source": [
    "myTree.insert(8)\n",
    "node = myTree.search(8)\n",
    "if node == None:\n",
    "    print(node)\n",
    "else:\n",
    "    print(node, node.val)\n",
    "\n",
    "print(tree7.right.val)\n",
    "print(tree7.left)"
   ]
  },
  {
   "cell_type": "code",
   "execution_count": 31,
   "id": "a6e4b45e",
   "metadata": {},
   "outputs": [
    {
     "name": "stdout",
     "output_type": "stream",
     "text": [
      "4\n",
      "3\n"
     ]
    }
   ],
   "source": [
    "print(myTree.root.val)\n",
    "myTree.delete(4)\n",
    "print(myTree.root.val)"
   ]
  },
  {
   "cell_type": "code",
   "execution_count": 32,
   "id": "8f403d86",
   "metadata": {},
   "outputs": [
    {
     "name": "stdout",
     "output_type": "stream",
     "text": [
      "None\n"
     ]
    }
   ],
   "source": [
    "node = myTree.search(4)\n",
    "if node == None:\n",
    "    print(node)\n",
    "else:\n",
    "    print(node, node.val)"
   ]
  },
  {
   "cell_type": "code",
   "execution_count": null,
   "id": "78126218",
   "metadata": {},
   "outputs": [],
   "source": []
  }
 ],
 "metadata": {
  "kernelspec": {
   "display_name": "Python 3 (ipykernel)",
   "language": "python",
   "name": "python3"
  },
  "language_info": {
   "codemirror_mode": {
    "name": "ipython",
    "version": 3
   },
   "file_extension": ".py",
   "mimetype": "text/x-python",
   "name": "python",
   "nbconvert_exporter": "python",
   "pygments_lexer": "ipython3",
   "version": "3.9.7"
  }
 },
 "nbformat": 4,
 "nbformat_minor": 5
}
