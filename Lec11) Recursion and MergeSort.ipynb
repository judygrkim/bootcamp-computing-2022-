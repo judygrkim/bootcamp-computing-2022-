{
 "cells": [
  {
   "cell_type": "code",
   "execution_count": 1,
   "id": "9f5552cb",
   "metadata": {},
   "outputs": [],
   "source": [
    "## recursion"
   ]
  },
  {
   "cell_type": "code",
   "execution_count": 2,
   "id": "107223d2",
   "metadata": {},
   "outputs": [],
   "source": [
    "def facto(n:int) -> int:\n",
    "    if n == 0 :\n",
    "        return 1\n",
    "    else:\n",
    "        return n*facto(n-1)"
   ]
  },
  {
   "cell_type": "code",
   "execution_count": 3,
   "id": "824009e9",
   "metadata": {},
   "outputs": [
    {
     "data": {
      "text/plain": [
       "120"
      ]
     },
     "execution_count": 3,
     "metadata": {},
     "output_type": "execute_result"
    }
   ],
   "source": [
    "facto(5)"
   ]
  },
  {
   "cell_type": "code",
   "execution_count": 4,
   "id": "7b025625",
   "metadata": {},
   "outputs": [],
   "source": [
    "## merge sort"
   ]
  },
  {
   "cell_type": "code",
   "execution_count": 16,
   "id": "e77ce95b",
   "metadata": {},
   "outputs": [],
   "source": [
    "def merge(L:list, first:int, mid:int, last:int) -> None:\n",
    "    k = first\n",
    "    sub1 = L[first:mid+1]\n",
    "    sub2 = L[mid+1:last+1]\n",
    "    i = j = 0\n",
    "    while i < len(sub1) and j < len(sub2):     #두 섭리스트가 모두 살아있어야함\n",
    "        if sub1[i] <= sub2[j]:                 #둘 중 하나가 끝날때까지 쭉 반복\n",
    "            L[k] = sub1[i]\n",
    "            i = i+1\n",
    "        else:\n",
    "            L[k] = sub2[j]\n",
    "            j = j+1\n",
    "        k = k+1                                                            \n",
    "    \n",
    "    #at least one sublist is finished\n",
    "    if i < len(sub1):\n",
    "        L[k:last+1] = sub1[i:]\n",
    "    elif j < len(sub2):\n",
    "        L[k:last+1] = sub2[j:]\n",
    "        "
   ]
  },
  {
   "cell_type": "code",
   "execution_count": 17,
   "id": "2e945657",
   "metadata": {},
   "outputs": [],
   "source": [
    "def mergeSortHelp(L:list, first:int, last:int) -> None:\n",
    "    if first == last:\n",
    "        return\n",
    "    else:\n",
    "        #step 1: divide into two sublists\n",
    "        mid = first + (last - first) // 2\n",
    "        #step 2: sort the two sublists\n",
    "        mergeSortHelp(L, first, mid)\n",
    "        mergeSortHelp(L, mid+1, last)\n",
    "        #step 3: merge the two 'sorted' sublists\n",
    "        merge(L,first,mid,last)\n",
    "\n",
    "def mergeSort(L:list) -> None:\n",
    "    mergeSortHelp(L, 0, len(L)-1)\n",
    "        "
   ]
  },
  {
   "cell_type": "code",
   "execution_count": 25,
   "id": "83a60cab",
   "metadata": {},
   "outputs": [],
   "source": [
    "L = [3,-5,2,7,-89,-9,45,76,25,63,-8]"
   ]
  },
  {
   "cell_type": "code",
   "execution_count": 26,
   "id": "0849e15b",
   "metadata": {},
   "outputs": [
    {
     "name": "stdout",
     "output_type": "stream",
     "text": [
      "[-89, -9, -8, -5, 2, 3, 7, 25, 45, 63, 76]\n"
     ]
    }
   ],
   "source": [
    "merSort = mergeSort(L)\n",
    "print(L)"
   ]
  },
  {
   "cell_type": "code",
   "execution_count": null,
   "id": "8dd0fd49",
   "metadata": {},
   "outputs": [],
   "source": []
  }
 ],
 "metadata": {
  "kernelspec": {
   "display_name": "Python 3 (ipykernel)",
   "language": "python",
   "name": "python3"
  },
  "language_info": {
   "codemirror_mode": {
    "name": "ipython",
    "version": 3
   },
   "file_extension": ".py",
   "mimetype": "text/x-python",
   "name": "python",
   "nbconvert_exporter": "python",
   "pygments_lexer": "ipython3",
   "version": "3.9.7"
  }
 },
 "nbformat": 4,
 "nbformat_minor": 5
}
