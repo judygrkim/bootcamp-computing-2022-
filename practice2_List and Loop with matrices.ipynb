{
 "cells": [
  {
   "cell_type": "code",
   "execution_count": 7,
   "id": "8a2ba862",
   "metadata": {},
   "outputs": [],
   "source": [
    "input1 = [[1,1,0], [1,0,1], [0,0,0]]\n",
    "input2 = [[1,1,0,0], [1,0,0,1], [0,1,1,1], [1,0,1,0]]"
   ]
  },
  {
   "cell_type": "code",
   "execution_count": 17,
   "id": "aca174b8",
   "metadata": {},
   "outputs": [],
   "source": [
    "def flip(data):\n",
    "    data = copy.deepcopy(data)\n",
    "    fliped = []\n",
    "    for i in range(len(data)):\n",
    "        fliped.append(data[i][::-1])\n",
    "    return fliped"
   ]
  },
  {
   "cell_type": "code",
   "execution_count": 18,
   "id": "12c7c973",
   "metadata": {},
   "outputs": [],
   "source": [
    "def reverse(data):\n",
    "    data = copy.deepcopy(data)\n",
    "    for i in range(len(data)):\n",
    "        for j in range(len(data[i])):\n",
    "            if data[i][j] == 0:\n",
    "                data[i][j] = 1\n",
    "            elif data[i][j] == 1:\n",
    "                data[i][j] = 0\n",
    "    rev = data\n",
    "    return rev"
   ]
  },
  {
   "cell_type": "markdown",
   "id": "c5c8735f",
   "metadata": {},
   "source": [
    "## practice 1 "
   ]
  },
  {
   "cell_type": "code",
   "execution_count": 22,
   "id": "db7d4c14",
   "metadata": {},
   "outputs": [
    {
     "name": "stdout",
     "output_type": "stream",
     "text": [
      "[[0, 1, 1], [1, 0, 1], [0, 0, 0]]\n"
     ]
    }
   ],
   "source": [
    "fliped1 = flip(input1)\n",
    "\n",
    "print(fliped1)"
   ]
  },
  {
   "cell_type": "code",
   "execution_count": 23,
   "id": "6173d448",
   "metadata": {},
   "outputs": [
    {
     "name": "stdout",
     "output_type": "stream",
     "text": [
      "[[1, 0, 0], [0, 1, 0], [1, 1, 1]]\n"
     ]
    }
   ],
   "source": [
    "rev1 = reverse(fliped1)\n",
    "print(rev1)"
   ]
  },
  {
   "cell_type": "markdown",
   "id": "7e99e137",
   "metadata": {},
   "source": [
    "## practice 2"
   ]
  },
  {
   "cell_type": "code",
   "execution_count": 24,
   "id": "73579c0b",
   "metadata": {},
   "outputs": [
    {
     "name": "stdout",
     "output_type": "stream",
     "text": [
      "[[0, 0, 1, 1], [1, 0, 0, 1], [1, 1, 1, 0], [0, 1, 0, 1]]\n"
     ]
    }
   ],
   "source": [
    "fliped2 = flip(input2)\n",
    "print(fliped2)"
   ]
  },
  {
   "cell_type": "code",
   "execution_count": 25,
   "id": "f48c7401",
   "metadata": {},
   "outputs": [
    {
     "name": "stdout",
     "output_type": "stream",
     "text": [
      "[[1, 1, 0, 0], [0, 1, 1, 0], [0, 0, 0, 1], [1, 0, 1, 0]]\n"
     ]
    }
   ],
   "source": [
    "rev2 = reverse(fliped2)\n",
    "print(rev2)"
   ]
  },
  {
   "cell_type": "code",
   "execution_count": 26,
   "id": "baec909d",
   "metadata": {},
   "outputs": [],
   "source": [
    "#####################답"
   ]
  },
  {
   "cell_type": "code",
   "execution_count": 27,
   "id": "75452286",
   "metadata": {},
   "outputs": [],
   "source": [
    "from typing import List\n",
    "import copy"
   ]
  },
  {
   "cell_type": "code",
   "execution_count": 28,
   "id": "8144ddb2",
   "metadata": {},
   "outputs": [],
   "source": [
    "def flipAndInvertImage(B: List[List[int]]) -> List[List[int]]:\n",
    "    #(0) copy the input\n",
    "    A = copy.deepcopy(B)\n",
    "    #(1) horizontally flipping\n",
    "    for i in range(len(A)):\n",
    "        for j in range(len(A[0])):\n",
    "            if j < len(A[0])-1-j:\n",
    "                A[i][j], A[i][-1-j] = A[i][-1-j], A[i][j]\n",
    "            else:\n",
    "                break\n",
    "                \n",
    "    #(2) inverting\n",
    "    for i in range(len(A)):\n",
    "        for j in range(len(A[0])):\n",
    "            A[i][j] = 1-A[i][j]\n",
    "    \n",
    "    #(3) Return\n",
    "    return A"
   ]
  },
  {
   "cell_type": "code",
   "execution_count": 29,
   "id": "d4a8be67",
   "metadata": {},
   "outputs": [],
   "source": [
    "output1 = flipAndInvertImage(input1)\n",
    "output2 = flipAndInvertImage(input2)"
   ]
  },
  {
   "cell_type": "code",
   "execution_count": 30,
   "id": "27222e9c",
   "metadata": {},
   "outputs": [
    {
     "name": "stdout",
     "output_type": "stream",
     "text": [
      "[[1, 0, 0], [0, 1, 0], [1, 1, 1]]\n"
     ]
    }
   ],
   "source": [
    "print(output1)"
   ]
  },
  {
   "cell_type": "code",
   "execution_count": 31,
   "id": "2a321bb3",
   "metadata": {},
   "outputs": [
    {
     "name": "stdout",
     "output_type": "stream",
     "text": [
      "[[1, 1, 0, 0], [0, 1, 1, 0], [0, 0, 0, 1], [1, 0, 1, 0]]\n"
     ]
    }
   ],
   "source": [
    "print(output2)"
   ]
  },
  {
   "cell_type": "code",
   "execution_count": null,
   "id": "06f8c6bd",
   "metadata": {},
   "outputs": [],
   "source": []
  }
 ],
 "metadata": {
  "kernelspec": {
   "display_name": "Python 3 (ipykernel)",
   "language": "python",
   "name": "python3"
  },
  "language_info": {
   "codemirror_mode": {
    "name": "ipython",
    "version": 3
   },
   "file_extension": ".py",
   "mimetype": "text/x-python",
   "name": "python",
   "nbconvert_exporter": "python",
   "pygments_lexer": "ipython3",
   "version": "3.9.7"
  }
 },
 "nbformat": 4,
 "nbformat_minor": 5
}
