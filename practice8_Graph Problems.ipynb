{
 "cells": [
  {
   "cell_type": "code",
   "execution_count": 1,
   "id": "acbdca41",
   "metadata": {},
   "outputs": [],
   "source": [
    "# practice 8 - graph problems"
   ]
  },
  {
   "cell_type": "code",
   "execution_count": null,
   "id": "3f9eeb03",
   "metadata": {},
   "outputs": [],
   "source": []
  },
  {
   "cell_type": "code",
   "execution_count": 2,
   "id": "d66208ae",
   "metadata": {},
   "outputs": [],
   "source": [
    "V = [0,1,2,3,4,5,6,7,8,9]\n",
    "E = [(0,1), (1,4), (1,5), (4,6), (5,6), (5,7), (6,9), (7,8), (2,3)]"
   ]
  },
  {
   "cell_type": "code",
   "execution_count": 13,
   "id": "3835a362",
   "metadata": {},
   "outputs": [],
   "source": [
    "#Depth-First Traversal: postorder\n",
    "\n",
    "class undi_graph1():\n",
    "    def __init__(self, V:list, E:list) -> None:\n",
    "        self.V = V[:]\n",
    "        self.neighbor = {}\n",
    "        for v in V:\n",
    "            self.neighbor[v] = []\n",
    "        for (v,w) in E:\n",
    "            self.neighbor[v].append(w)\n",
    "            self.neighbor[w].append(v)\n",
    "    \n",
    "    \n",
    "    def __DFTHelp(self, visited:list, v:int) -> None:\n",
    "        if not visited[v]:\n",
    "            visited[v] = True\n",
    "            for w in self.neighbor[v]:\n",
    "                self.__DFTHelp(visited,w)\n",
    "            print(v)\n",
    "        \n",
    "    def DFTHelp(self) -> None:\n",
    "        if self.V:\n",
    "            visited = {}\n",
    "            for v in self.V:\n",
    "                visited[v] = False\n",
    "            for v in self.V:\n",
    "                self.__DFTHelp(visited, v)"
   ]
  },
  {
   "cell_type": "code",
   "execution_count": 14,
   "id": "5cfb03c7",
   "metadata": {},
   "outputs": [],
   "source": [
    "DFTGraph = undi_graph1(V,E)"
   ]
  },
  {
   "cell_type": "code",
   "execution_count": 15,
   "id": "12c958c2",
   "metadata": {
    "scrolled": true
   },
   "outputs": [
    {
     "name": "stdout",
     "output_type": "stream",
     "text": [
      "8\n",
      "7\n",
      "5\n",
      "9\n",
      "6\n",
      "4\n",
      "1\n",
      "0\n",
      "3\n",
      "2\n"
     ]
    }
   ],
   "source": [
    "DFTGraph.DFTHelp()"
   ]
  },
  {
   "cell_type": "code",
   "execution_count": null,
   "id": "d1eb7ca3",
   "metadata": {},
   "outputs": [],
   "source": [
    "#Depth-First Traversal: preorder\n",
    "\n",
    "class undi_graph1():\n",
    "    def __init__(self, V:list, E:list) -> None:\n",
    "        self.V = V[:]\n",
    "        self.neighbor = {}\n",
    "        for v in V:\n",
    "            self.neighbor[v] = []\n",
    "        for (v,w) in E:\n",
    "            self.neighbor[v].append(w)\n",
    "            self.neighbor[w].append(v)\n",
    "    \n",
    "    \n",
    "    def __DFTHelp(self, visited:list, v:int) -> None:\n",
    "        if not visited[v]:\n",
    "            visited[v] = True\n",
    "            print(v)\n",
    "            for w in self.neighbor[v]:\n",
    "                self.__DFTHelp(visited,w)\n",
    "            #print(v)\n",
    "        \n",
    "    def DFTHelp(self) -> None:\n",
    "        if self.V:\n",
    "            visited = {}\n",
    "            for v in self.V:\n",
    "                visited[v] = False\n",
    "            for v in self.V:\n",
    "                self.__DFTHelp(visited, v)"
   ]
  },
  {
   "cell_type": "code",
   "execution_count": 16,
   "id": "4be2c830",
   "metadata": {},
   "outputs": [],
   "source": [
    "#"
   ]
  },
  {
   "cell_type": "code",
   "execution_count": 24,
   "id": "afc0c297",
   "metadata": {},
   "outputs": [],
   "source": [
    "#Breadth-First Traversal\n",
    "\n",
    "from collections import deque\n",
    "\n",
    "class undi_graph2():\n",
    "    def __init__(self, V:list, E:list) -> None:\n",
    "        self.V = V[:]\n",
    "        self.neighbor = {}\n",
    "        for v in V:\n",
    "            self.neighbor[v] = []\n",
    "        for (v,w) in E:\n",
    "            self.neighbor[v].append(w)\n",
    "            self.neighbor[w].append(v)\n",
    "    \n",
    "    def BFT(self) -> None:\n",
    "        if self.V:\n",
    "            visited = {}\n",
    "            for v in self.V:\n",
    "                visited[v] = False\n",
    "            q = deque([])\n",
    "            for v in self.V:\n",
    "                q.append(v)\n",
    "                while q:\n",
    "                    v = q.popleft()\n",
    "                    if not visited[v]:\n",
    "                        visited[v] = True\n",
    "                        print(v)\n",
    "                        for w in self.neighbor[v]:\n",
    "                            q.append(w)\n",
    "                        print(q)"
   ]
  },
  {
   "cell_type": "code",
   "execution_count": 25,
   "id": "c53185a9",
   "metadata": {},
   "outputs": [],
   "source": [
    "BFTGraph = undi_graph2(V,E)"
   ]
  },
  {
   "cell_type": "code",
   "execution_count": 26,
   "id": "5eb1803e",
   "metadata": {},
   "outputs": [
    {
     "name": "stdout",
     "output_type": "stream",
     "text": [
      "0\n",
      "deque([1])\n",
      "1\n",
      "deque([0, 4, 5])\n",
      "4\n",
      "deque([5, 1, 6])\n",
      "5\n",
      "deque([1, 6, 1, 6, 7])\n",
      "6\n",
      "deque([1, 6, 7, 4, 5, 9])\n",
      "7\n",
      "deque([4, 5, 9, 5, 8])\n",
      "9\n",
      "deque([5, 8, 6])\n",
      "8\n",
      "deque([6, 7])\n",
      "2\n",
      "deque([3])\n",
      "3\n",
      "deque([2])\n"
     ]
    }
   ],
   "source": [
    "BFTGraph.BFT()"
   ]
  },
  {
   "cell_type": "code",
   "execution_count": null,
   "id": "6f28f9b3",
   "metadata": {},
   "outputs": [],
   "source": []
  }
 ],
 "metadata": {
  "kernelspec": {
   "display_name": "Python 3 (ipykernel)",
   "language": "python",
   "name": "python3"
  },
  "language_info": {
   "codemirror_mode": {
    "name": "ipython",
    "version": 3
   },
   "file_extension": ".py",
   "mimetype": "text/x-python",
   "name": "python",
   "nbconvert_exporter": "python",
   "pygments_lexer": "ipython3",
   "version": "3.9.7"
  }
 },
 "nbformat": 4,
 "nbformat_minor": 5
}
