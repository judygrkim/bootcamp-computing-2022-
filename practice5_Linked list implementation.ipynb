{
 "cells": [
  {
   "cell_type": "code",
   "execution_count": 1,
   "id": "112228fa",
   "metadata": {},
   "outputs": [
    {
     "data": {
      "text/plain": [
       "'\\npush(x): add a LinkedNode that has val = x to myStack\\npop: Remove the most recently added LinkedNode from myStack\\ntop: return val of the most recently added LinkedNode\\ngetSize: return the number of LinkedNodes in myStack\\nisEmpty: return True if myStack is empty, or False otherwise\\n'"
      ]
     },
     "execution_count": 1,
     "metadata": {},
     "output_type": "execute_result"
    }
   ],
   "source": [
    "# practice 5\n",
    "#Linked List Examples\n",
    "\n",
    "#class myStack() has five methods\n",
    "'''\n",
    "push(x): add a LinkedNode that has val = x to myStack\n",
    "pop: Remove the most recently added LinkedNode from myStack\n",
    "top: return val of the most recently added LinkedNode\n",
    "getSize: return the number of LinkedNodes in myStack\n",
    "isEmpty: return True if myStack is empty, or False otherwise\n",
    "'''"
   ]
  },
  {
   "cell_type": "code",
   "execution_count": null,
   "id": "ae44e5ff",
   "metadata": {},
   "outputs": [],
   "source": [
    "# 내풀이"
   ]
  },
  {
   "cell_type": "code",
   "execution_count": 3,
   "id": "f3d3e2b6",
   "metadata": {},
   "outputs": [],
   "source": [
    "class LinkedNode():\n",
    "    def __init__(self,x:int) -> None:\n",
    "        self.val = x\n",
    "        self.next = None"
   ]
  },
  {
   "cell_type": "code",
   "execution_count": 17,
   "id": "70fd0002",
   "metadata": {},
   "outputs": [],
   "source": [
    "class myStack():\n",
    "    def __init__(self) -> None:\n",
    "        self.sentinel = LinkedNode(0)\n",
    "        self.size = 0\n",
    "    \n",
    "    def push(self, x:int) -> None:\n",
    "        curNode = self.sentinel\n",
    "        while curNode.next:\n",
    "            curNode = curNode.next\n",
    "        curNode.next = LinkedNode(x)\n",
    "        \n",
    "        self.size += 1\n",
    "    \n",
    "    def pop(self) -> None:\n",
    "        curNode = self.sentinel\n",
    "        while curNode.next:\n",
    "            curNode = curNode.next\n",
    "        curNode = None\n",
    "        \n",
    "        self.size -= 1\n",
    "\n",
    "    def top(self) -> None:\n",
    "        curNode = self.sentinel\n",
    "        while curNode.next:\n",
    "            curNode = curNode.next\n",
    "        return curNode.val\n",
    "    \n",
    "    def getSize(self) -> int:\n",
    "        return self.size\n",
    "    \n",
    "    def isEmpty(self) -> str:\n",
    "        if self.sentinel.next:\n",
    "            return False\n",
    "        else:\n",
    "            return True"
   ]
  },
  {
   "cell_type": "code",
   "execution_count": 18,
   "id": "5bc537ee",
   "metadata": {},
   "outputs": [],
   "source": [
    "L = myStack()"
   ]
  },
  {
   "cell_type": "code",
   "execution_count": 23,
   "id": "a642af49",
   "metadata": {},
   "outputs": [],
   "source": [
    "L.push(3)\n",
    "L.push(7)"
   ]
  },
  {
   "cell_type": "code",
   "execution_count": 24,
   "id": "7e392b2b",
   "metadata": {},
   "outputs": [
    {
     "data": {
      "text/plain": [
       "7"
      ]
     },
     "execution_count": 24,
     "metadata": {},
     "output_type": "execute_result"
    }
   ],
   "source": [
    "L.top()"
   ]
  },
  {
   "cell_type": "code",
   "execution_count": 21,
   "id": "d39559b3",
   "metadata": {},
   "outputs": [],
   "source": [
    "###########\n",
    "# 답 "
   ]
  },
  {
   "cell_type": "code",
   "execution_count": 22,
   "id": "9ee47d09",
   "metadata": {},
   "outputs": [],
   "source": [
    "class LinkedNode():\n",
    "    def __init__(self,x:int) -> None:\n",
    "        self.val = x\n",
    "        self.next = None"
   ]
  },
  {
   "cell_type": "code",
   "execution_count": 25,
   "id": "b913c857",
   "metadata": {},
   "outputs": [],
   "source": [
    "class myStack():\n",
    "    def __init__(self) -> None:\n",
    "        self.sentinel = LinkedNode(0)                          #아무 의미 없는 하나의 node 꼭 0 아니어도 됨\n",
    "        self.size = 0\n",
    "    \n",
    "    def push(self, x:int) -> None:\n",
    "        newFirst = LinkedNode(x)\n",
    "        newFirst.next = self.sentinel.next\n",
    "        self.sentinel.next = newFirst\n",
    "        self.size += 1\n",
    "    \n",
    "    def pop(self) -> None:\n",
    "        self.sentinel.next = self.sentinel.next.next\n",
    "        self.size -= 1\n",
    "    \n",
    "    def top(self) -> None:\n",
    "        if self.sentinel.next:\n",
    "            return self.sentinel.next.val\n",
    "        return None\n",
    "    \n",
    "    def getSize(self) -> int:\n",
    "        return self.size\n",
    "    \n",
    "    def isEmpty(self) -> bool:\n",
    "        if self.size > 0 :\n",
    "            return False\n",
    "        return True\n",
    "        \n",
    "        #return not bool(self.size) => 0인 경우에만 True를 리턴 "
   ]
  },
  {
   "cell_type": "code",
   "execution_count": 26,
   "id": "0bb520f9",
   "metadata": {},
   "outputs": [],
   "source": [
    "A = myStack()"
   ]
  },
  {
   "cell_type": "code",
   "execution_count": 28,
   "id": "9a42d281",
   "metadata": {},
   "outputs": [
    {
     "data": {
      "text/plain": [
       "True"
      ]
     },
     "execution_count": 28,
     "metadata": {},
     "output_type": "execute_result"
    }
   ],
   "source": [
    "A.isEmpty()"
   ]
  },
  {
   "cell_type": "code",
   "execution_count": 29,
   "id": "18e18126",
   "metadata": {},
   "outputs": [],
   "source": [
    "A.push(1)"
   ]
  },
  {
   "cell_type": "code",
   "execution_count": 30,
   "id": "e7799752",
   "metadata": {},
   "outputs": [
    {
     "data": {
      "text/plain": [
       "1"
      ]
     },
     "execution_count": 30,
     "metadata": {},
     "output_type": "execute_result"
    }
   ],
   "source": [
    "A.top()"
   ]
  },
  {
   "cell_type": "code",
   "execution_count": 31,
   "id": "bb5023e5",
   "metadata": {},
   "outputs": [],
   "source": [
    "A.push(100)\n",
    "A.push(150)"
   ]
  },
  {
   "cell_type": "code",
   "execution_count": 32,
   "id": "d1cc159e",
   "metadata": {},
   "outputs": [
    {
     "data": {
      "text/plain": [
       "150"
      ]
     },
     "execution_count": 32,
     "metadata": {},
     "output_type": "execute_result"
    }
   ],
   "source": [
    "A.top()"
   ]
  },
  {
   "cell_type": "code",
   "execution_count": 33,
   "id": "1b82fe50",
   "metadata": {},
   "outputs": [
    {
     "data": {
      "text/plain": [
       "3"
      ]
     },
     "execution_count": 33,
     "metadata": {},
     "output_type": "execute_result"
    }
   ],
   "source": [
    "A.getSize()"
   ]
  },
  {
   "cell_type": "code",
   "execution_count": 34,
   "id": "4f0e9306",
   "metadata": {},
   "outputs": [],
   "source": [
    "A.pop()"
   ]
  },
  {
   "cell_type": "code",
   "execution_count": 35,
   "id": "41254c95",
   "metadata": {},
   "outputs": [
    {
     "data": {
      "text/plain": [
       "100"
      ]
     },
     "execution_count": 35,
     "metadata": {},
     "output_type": "execute_result"
    }
   ],
   "source": [
    "A.top()"
   ]
  },
  {
   "cell_type": "code",
   "execution_count": null,
   "id": "915bbb35",
   "metadata": {},
   "outputs": [],
   "source": []
  }
 ],
 "metadata": {
  "kernelspec": {
   "display_name": "Python 3 (ipykernel)",
   "language": "python",
   "name": "python3"
  },
  "language_info": {
   "codemirror_mode": {
    "name": "ipython",
    "version": 3
   },
   "file_extension": ".py",
   "mimetype": "text/x-python",
   "name": "python",
   "nbconvert_exporter": "python",
   "pygments_lexer": "ipython3",
   "version": "3.9.7"
  }
 },
 "nbformat": 4,
 "nbformat_minor": 5
}
