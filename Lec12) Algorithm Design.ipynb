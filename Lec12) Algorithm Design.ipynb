{
 "cells": [
  {
   "cell_type": "code",
   "execution_count": null,
   "id": "f733f953",
   "metadata": {},
   "outputs": [],
   "source": [
    "# \n",
    "#given nums = [2,7,11,15]. target = 9\n",
    "\n",
    "#because nums[0]+nums[1] = 2+7 =9,\n",
    "#return[0,1]\n"
   ]
  },
  {
   "cell_type": "code",
   "execution_count": 1,
   "id": "ad51533b",
   "metadata": {},
   "outputs": [],
   "source": [
    "def twoSum(nums:list, target:int) -> list:\n",
    "    myDict = {}\n",
    "    for i in range(len(nums)):\n",
    "        myDict[nums[i]] = i\n",
    "    for i in range(len(nums)):\n",
    "        complement = target - nums[i]\n",
    "        if complement in myDict:\n",
    "            return [i, myDict[complement]]\n",
    "        "
   ]
  },
  {
   "cell_type": "code",
   "execution_count": 8,
   "id": "ebfe6c94",
   "metadata": {},
   "outputs": [],
   "source": [
    "#매우 심화.. \n",
    "def twoSum2(nums:list, target:int) -> list:\n",
    "    myDict = {}\n",
    "    for i in range(len(nums)):\n",
    "        if nums[i] in myDict: \n",
    "            return [myDict[nums[i]], i]\n",
    "        complement = target - nums[i]\n",
    "        myDict[complement] = i"
   ]
  },
  {
   "cell_type": "code",
   "execution_count": 3,
   "id": "59c2486c",
   "metadata": {},
   "outputs": [],
   "source": [
    "import random\n",
    "L = list(range(20000))\n",
    "random.shuffle(L)"
   ]
  },
  {
   "cell_type": "code",
   "execution_count": 6,
   "id": "52ef3672",
   "metadata": {},
   "outputs": [
    {
     "data": {
      "text/plain": [
       "[3464, 18724]"
      ]
     },
     "execution_count": 6,
     "metadata": {},
     "output_type": "execute_result"
    }
   ],
   "source": [
    "twoSum(L,9)"
   ]
  },
  {
   "cell_type": "code",
   "execution_count": null,
   "id": "3997d8b6",
   "metadata": {},
   "outputs": [],
   "source": []
  },
  {
   "cell_type": "code",
   "execution_count": 7,
   "id": "2516165e",
   "metadata": {},
   "outputs": [
    {
     "name": "stdout",
     "output_type": "stream",
     "text": [
      "0.0034209000000373635\n"
     ]
    }
   ],
   "source": [
    "import time\n",
    "t_start = time.perf_counter()\n",
    "\n",
    "twoSum(L,1)\n",
    "\n",
    "t_end = time.perf_counter()\n",
    "print(t_end-t_start)"
   ]
  },
  {
   "cell_type": "code",
   "execution_count": 9,
   "id": "13f275ab",
   "metadata": {},
   "outputs": [
    {
     "name": "stdout",
     "output_type": "stream",
     "text": [
      "0.002777000000037333\n"
     ]
    }
   ],
   "source": [
    "import time\n",
    "t_start = time.perf_counter()\n",
    "\n",
    "twoSum2(L,1)\n",
    "\n",
    "t_end = time.perf_counter()\n",
    "print(t_end-t_start)"
   ]
  },
  {
   "cell_type": "code",
   "execution_count": 10,
   "id": "f77512ce",
   "metadata": {},
   "outputs": [],
   "source": [
    "# if the list is sorted?"
   ]
  },
  {
   "cell_type": "code",
   "execution_count": 56,
   "id": "a93715c1",
   "metadata": {},
   "outputs": [],
   "source": [
    "def twoSumSorted(nums:list, target:int) -> list:\n",
    "    i,j = 0, len(nums) -1\n",
    "    while nums[i]+nums[j] != target:\n",
    "        if nums[i] + nums[j] < target:\n",
    "            i = i+1\n",
    "        else:\n",
    "            j = j-1\n",
    "    return [i,j]\n",
    "    "
   ]
  },
  {
   "cell_type": "code",
   "execution_count": 57,
   "id": "ddc2157f",
   "metadata": {},
   "outputs": [
    {
     "data": {
      "text/plain": [
       "[0, 10]"
      ]
     },
     "execution_count": 57,
     "metadata": {},
     "output_type": "execute_result"
    }
   ],
   "source": [
    "LL = list(range(2000))\n",
    "twoSumSorted(LL, 10)"
   ]
  },
  {
   "cell_type": "code",
   "execution_count": null,
   "id": "6c970ab3",
   "metadata": {},
   "outputs": [],
   "source": []
  }
 ],
 "metadata": {
  "kernelspec": {
   "display_name": "Python 3 (ipykernel)",
   "language": "python",
   "name": "python3"
  },
  "language_info": {
   "codemirror_mode": {
    "name": "ipython",
    "version": 3
   },
   "file_extension": ".py",
   "mimetype": "text/x-python",
   "name": "python",
   "nbconvert_exporter": "python",
   "pygments_lexer": "ipython3",
   "version": "3.9.7"
  }
 },
 "nbformat": 4,
 "nbformat_minor": 5
}
