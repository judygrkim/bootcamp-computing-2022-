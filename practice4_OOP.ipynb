{
 "cells": [
  {
   "cell_type": "code",
   "execution_count": 53,
   "id": "8818796f",
   "metadata": {},
   "outputs": [],
   "source": [
    "class Member: \n",
    "    def __init__(self, name:str, address:str, email:str, DoB:str, affiliation:str) -> None:\n",
    "        self.name = name\n",
    "        self.address = address\n",
    "        self.email = email\n",
    "        self.DoB = DoB\n",
    "        self.affiliation = affiliation\n",
    "        self.infoList = [self.name, self.address, self.email, self.DoB, self.affiliation]\n",
    "        \n",
    "    def printInfo(self):\n",
    "        print(self.infoList)\n",
    "        \n",
    "    def switch_affiliation(self, new_affiliation: str)-> None:\n",
    "        print(\"Member\", self.name, \"changes affiliation from\", self.affiliation, 'to', new_affiliation)\n",
    "        self.affiliation = new_affiliation\n",
    "        self.infoList[-1] = new_affiliation"
   ]
  },
  {
   "cell_type": "code",
   "execution_count": 4,
   "id": "9d48f910",
   "metadata": {},
   "outputs": [],
   "source": [
    "a = Member('hyungshin', '942-16', 'hyungshin@snu.ac.kr', '1999.09.09', 'G505')"
   ]
  },
  {
   "cell_type": "code",
   "execution_count": null,
   "id": "a6e2f9d5",
   "metadata": {},
   "outputs": [],
   "source": [
    "############## Inheritance"
   ]
  },
  {
   "cell_type": "code",
   "execution_count": 68,
   "id": "f8347b51",
   "metadata": {},
   "outputs": [],
   "source": [
    "class Student(Member): \n",
    "    def __init__(self, name:str, address:str, email:str, DoB:str, affiliation:str, student_num:str) -> None:\n",
    "        \n",
    "        super().__init__(name,address,email,DoB,affiliation)    #부모 함수 부르기, 매우 중요! \n",
    "        self.student_num = student_num                          #새로운 정보만 새로 입력\n",
    "        self.advisor = \"\"\n",
    "        self.courses_taken = []\n",
    "        self.courses_taking = []\n",
    "        self.GPA = 0\n",
    "        self.infoList += [self.student_num, self.advisor, self.courses_taken, self.courses_taking, self.GPA]\n",
    "        #이미 부모에서 불러온 변수들은 또 입력할 필요 없고 새로운 것들만 \n",
    "        #student에 특화된 infoList 생성 \n",
    "    \n",
    "    def switch_affiliation(self, new_affiliation: str)-> None:\n",
    "        print(\"Student\", self.name, \"changes affiliation from\", self.affiliation, 'to', new_affiliation)\n",
    "        self.affiliation = new_affiliation\n",
    "        self.infoList[-1] = new_affiliation"
   ]
  },
  {
   "cell_type": "code",
   "execution_count": 69,
   "id": "b4a4472a",
   "metadata": {},
   "outputs": [],
   "source": [
    "class Faculty(Member):\n",
    "    def __init__(self, name:str, address:str, email:str, DoB:str, affiliation:str, faculty_num:str) -> None:\n",
    "        super().__init__(name, address, email, DoB, affiliation)\n",
    "        self.faculty_num = faculty_num\n",
    "        self.advisees = []\n",
    "        self.courses_teaching = []\n",
    "        self.infoList += [self.faculty_num, self.advisees, self.courses_teaching]\n",
    "    \n",
    "    def switch_affiliation(self, new_affiliation: str)-> None:\n",
    "        print(\"Faculty\", self.name, \"changes affiliation from\", self.affiliation, 'to', new_affiliation)\n",
    "        self.affiliation = new_affiliation\n",
    "        self.infoList[-1] = new_affiliation"
   ]
  },
  {
   "cell_type": "code",
   "execution_count": 70,
   "id": "3c342adc",
   "metadata": {},
   "outputs": [],
   "source": [
    "hyungsin = Faculty('Hyung-Sin Kim', '942-415', 'hyungking@snu.ac.kr', '2020.01.01', 'DataScience','A9999')"
   ]
  },
  {
   "cell_type": "code",
   "execution_count": 57,
   "id": "f00deceb",
   "metadata": {},
   "outputs": [
    {
     "data": {
      "text/plain": [
       "__main__.Faculty"
      ]
     },
     "execution_count": 57,
     "metadata": {},
     "output_type": "execute_result"
    }
   ],
   "source": [
    "type(hyungsin)     #type 알려줌 "
   ]
  },
  {
   "cell_type": "code",
   "execution_count": 58,
   "id": "69019d8a",
   "metadata": {},
   "outputs": [],
   "source": [
    "jaehyun = Student('Jaehyung Lee', '100-919', 'jaehyung.snu.ac.kr', '1800.05.05', 'Economics', '2022-11111')"
   ]
  },
  {
   "cell_type": "code",
   "execution_count": 59,
   "id": "d674380d",
   "metadata": {},
   "outputs": [
    {
     "name": "stdout",
     "output_type": "stream",
     "text": [
      "['Hyung-Sin Kim', '942-415', 'hyungking@snu.ac.kr', '2020.01.01', 'DataScience', 'A9999', [], []]\n"
     ]
    }
   ],
   "source": [
    "hyungsin.printInfo()"
   ]
  },
  {
   "cell_type": "code",
   "execution_count": 60,
   "id": "e88a649c",
   "metadata": {},
   "outputs": [
    {
     "name": "stdout",
     "output_type": "stream",
     "text": [
      "['Jaehyung Lee', '100-919', 'jaehyung.snu.ac.kr', '1800.05.05', 'Economics', '2022-11111', '', [], [], 0]\n"
     ]
    }
   ],
   "source": [
    "jaehyun.printInfo()"
   ]
  },
  {
   "cell_type": "code",
   "execution_count": 61,
   "id": "25194e51",
   "metadata": {},
   "outputs": [
    {
     "name": "stdout",
     "output_type": "stream",
     "text": [
      "Member Hyung-Sin Kim changes affiliation from DataScience to CS\n"
     ]
    }
   ],
   "source": [
    "hyungsin.switch_affiliation('CS')"
   ]
  },
  {
   "cell_type": "code",
   "execution_count": 62,
   "id": "1ba1826a",
   "metadata": {},
   "outputs": [
    {
     "data": {
      "text/plain": [
       "'CS'"
      ]
     },
     "execution_count": 62,
     "metadata": {},
     "output_type": "execute_result"
    }
   ],
   "source": [
    "hyungsin.affiliation"
   ]
  },
  {
   "cell_type": "code",
   "execution_count": 72,
   "id": "d3c97b00",
   "metadata": {},
   "outputs": [
    {
     "name": "stdout",
     "output_type": "stream",
     "text": [
      "Faculty Hyung-Sin Kim changes affiliation from DataScience to MS\n"
     ]
    }
   ],
   "source": [
    "hyungsin.switch_affiliation('MS')"
   ]
  },
  {
   "cell_type": "code",
   "execution_count": 73,
   "id": "ef822e84",
   "metadata": {},
   "outputs": [
    {
     "name": "stdout",
     "output_type": "stream",
     "text": [
      "Member Jaehyung Lee changes affiliation from Economics to CS\n"
     ]
    }
   ],
   "source": [
    "jaehyun.switch_affiliation('CS')"
   ]
  },
  {
   "cell_type": "code",
   "execution_count": null,
   "id": "766f29ec",
   "metadata": {},
   "outputs": [],
   "source": []
  }
 ],
 "metadata": {
  "kernelspec": {
   "display_name": "Python 3 (ipykernel)",
   "language": "python",
   "name": "python3"
  },
  "language_info": {
   "codemirror_mode": {
    "name": "ipython",
    "version": 3
   },
   "file_extension": ".py",
   "mimetype": "text/x-python",
   "name": "python",
   "nbconvert_exporter": "python",
   "pygments_lexer": "ipython3",
   "version": "3.9.7"
  }
 },
 "nbformat": 4,
 "nbformat_minor": 5
}
