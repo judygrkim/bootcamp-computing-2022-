{
 "cells": [
  {
   "cell_type": "code",
   "execution_count": 1,
   "id": "b548e76b",
   "metadata": {},
   "outputs": [],
   "source": [
    "# single linked lists\n"
   ]
  },
  {
   "cell_type": "code",
   "execution_count": 21,
   "id": "f536fa06",
   "metadata": {},
   "outputs": [],
   "source": [
    "class LinkedNode():\n",
    "    def __init__(self,x):\n",
    "        self.val = x\n",
    "        self.next = None"
   ]
  },
  {
   "cell_type": "code",
   "execution_count": 54,
   "id": "45fa1e10",
   "metadata": {},
   "outputs": [],
   "source": [
    "class SLList():\n",
    "    def __init__(self) -> None:\n",
    "        self.first = None\n",
    "        self.size = 0\n",
    "    \n",
    "    def addFirst(self,x:int) -> None:\n",
    "        newFirst=LinkedNode(x)\n",
    "        newFirst.next = self.first\n",
    "        self.first = newFirst\n",
    "        self.size += 1\n",
    "    \n",
    "    def append(self,x:int) -> None:\n",
    "        self.size += 1\n",
    "        if not self.first:\n",
    "            self.first = LinkedNode(x)\n",
    "        else:\n",
    "            curNode = self.first\n",
    "            while curNode.next:\n",
    "                curNode = curNode.next\n",
    "            curNode.next = LinkedNode(x)\n",
    "    \n",
    "    def getFirst(self) -> int:\n",
    "        if self.first:\n",
    "            return self.first.val\n",
    "        return None\n",
    "    \n",
    "    def getSize(self) -> int:\n",
    "        return self.size              #매번 size를 세는 것보다 addFirst할 때마다 size를 update"
   ]
  },
  {
   "cell_type": "code",
   "execution_count": 55,
   "id": "61a9a623",
   "metadata": {},
   "outputs": [],
   "source": [
    "L = SLList()"
   ]
  },
  {
   "cell_type": "code",
   "execution_count": 56,
   "id": "02b48c6d",
   "metadata": {},
   "outputs": [],
   "source": [
    "L.append(7)"
   ]
  },
  {
   "cell_type": "code",
   "execution_count": 57,
   "id": "e7658f3a",
   "metadata": {},
   "outputs": [],
   "source": [
    "L.addFirst(5)\n",
    "L.addFirst(10)"
   ]
  },
  {
   "cell_type": "code",
   "execution_count": 58,
   "id": "b815e843",
   "metadata": {},
   "outputs": [
    {
     "data": {
      "text/plain": [
       "10"
      ]
     },
     "execution_count": 58,
     "metadata": {},
     "output_type": "execute_result"
    }
   ],
   "source": [
    "L.getFirst()"
   ]
  },
  {
   "cell_type": "code",
   "execution_count": 59,
   "id": "d2abdd17",
   "metadata": {},
   "outputs": [
    {
     "data": {
      "text/plain": [
       "3"
      ]
     },
     "execution_count": 59,
     "metadata": {},
     "output_type": "execute_result"
    }
   ],
   "source": [
    "L.getSize()"
   ]
  },
  {
   "cell_type": "code",
   "execution_count": 60,
   "id": "ec47ed92",
   "metadata": {},
   "outputs": [
    {
     "data": {
      "text/plain": [
       "4"
      ]
     },
     "execution_count": 60,
     "metadata": {},
     "output_type": "execute_result"
    }
   ],
   "source": [
    "L.addFirst(0)\n",
    "L.getSize()"
   ]
  },
  {
   "cell_type": "code",
   "execution_count": 61,
   "id": "bba1dff1",
   "metadata": {},
   "outputs": [],
   "source": [
    "################\n",
    "#Sentinel Node - dummy node "
   ]
  },
  {
   "cell_type": "code",
   "execution_count": 65,
   "id": "7e5385f9",
   "metadata": {},
   "outputs": [],
   "source": [
    "class SLList_sentinel():                          #first 대신 sentinel, sentinel.next를 넣어줌\n",
    "    def __init__(self) -> None:\n",
    "        self.sentinel = LinkedNode(0)\n",
    "        self.size = 0\n",
    "    \n",
    "    def addFirst(self,x:int) -> None:\n",
    "        newFirst=LinkedNode(x)\n",
    "        newFirst.next = self.sentinel.next\n",
    "        self.sentinel.next = newFirst\n",
    "        self.size += 1\n",
    "    \n",
    "    def append(self, x:int) -> None:              #구조적으로 매우 간단해짐\n",
    "        self.size += 1                            #special case를 안 써도 됨 \n",
    "        curNode = self.sentinel\n",
    "        while curNode.next:\n",
    "            curNode = curNode.next\n",
    "        curNode.next = LinkedNode(x)\n",
    "    \n",
    "    def getFirst(self) -> int:\n",
    "        if self.sentinel.next:\n",
    "            return self.sentinel.next.val\n",
    "        return None\n",
    "    \n",
    "    def getSize(self) -> int:\n",
    "        return self.size              #매번 size를 세는 것보다 addFirst할 때마다 size를 update"
   ]
  },
  {
   "cell_type": "code",
   "execution_count": 66,
   "id": "7b5d5828",
   "metadata": {},
   "outputs": [],
   "source": [
    "A = SLList_sentinel()"
   ]
  },
  {
   "cell_type": "code",
   "execution_count": 67,
   "id": "255633e4",
   "metadata": {},
   "outputs": [
    {
     "data": {
      "text/plain": [
       "1"
      ]
     },
     "execution_count": 67,
     "metadata": {},
     "output_type": "execute_result"
    }
   ],
   "source": [
    "A.addFirst(0)\n",
    "A.getSize()"
   ]
  },
  {
   "cell_type": "code",
   "execution_count": 68,
   "id": "de231d23",
   "metadata": {},
   "outputs": [
    {
     "data": {
      "text/plain": [
       "2"
      ]
     },
     "execution_count": 68,
     "metadata": {},
     "output_type": "execute_result"
    }
   ],
   "source": [
    "A.append(10)\n",
    "A.getSize()"
   ]
  },
  {
   "cell_type": "code",
   "execution_count": null,
   "id": "37a10551",
   "metadata": {},
   "outputs": [],
   "source": []
  }
 ],
 "metadata": {
  "kernelspec": {
   "display_name": "Python 3 (ipykernel)",
   "language": "python",
   "name": "python3"
  },
  "language_info": {
   "codemirror_mode": {
    "name": "ipython",
    "version": 3
   },
   "file_extension": ".py",
   "mimetype": "text/x-python",
   "name": "python",
   "nbconvert_exporter": "python",
   "pygments_lexer": "ipython3",
   "version": "3.9.7"
  }
 },
 "nbformat": 4,
 "nbformat_minor": 5
}
